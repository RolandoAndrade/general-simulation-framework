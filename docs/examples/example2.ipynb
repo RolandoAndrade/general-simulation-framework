{
 "cells": [
  {
   "cell_type": "markdown",
   "metadata": {
    "id": "LL3GCoe6EfnC"
   },
   "source": [
    "# Creating a Conway's Game of Life\n",
    "\n",
    "The Game of Life, also known simply as Life, is a cellular automaton devised by the British mathematician John Horton Conway in 1970.\n"
   ]
  },
  {
   "cell_type": "markdown",
   "metadata": {
    "id": "ZdOGrmIgGL6J"
   },
   "source": [
    "## Rules\n",
    "\n",
    "The universe of the Game of Life is an infinite, two-dimensional orthogonal grid of square cells, each of which is in one of two possible states, live or dead, (or populated and unpopulated, respectively). Every cell interacts with its eight neighbours, which are the cells that are horizontally, vertically, or diagonally adjacent. At each step in time, the following transitions occur:\n",
    "\n",
    "\n",
    "1. Any live cell with two or three live neighbours survives.\n",
    "2. Any dead cell with three live neighbours becomes a live cell.\n",
    "3. All other live cells die in the next generation. Similarly, all other dead cells stay dead."
   ]
  },
  {
   "cell_type": "markdown",
   "metadata": {
    "id": "-BiEkCxsLRRC"
   },
   "source": [
    "## Implementing cells\n",
    "\n",
    "To implement cells, you don't need to apply many changes from the previous example."
   ]
  },
  {
   "cell_type": "code",
   "execution_count": null,
   "metadata": {
    "id": "6ag63xbJLj-4"
   },
   "outputs": [],
   "source": [
    "from typing import Dict\n",
    "from gsf.dynamic_system.dynamic_systems import DiscreteEventDynamicSystem\n",
    "from gsf.models.models import DiscreteTimeModel\n",
    "\n",
    "\n",
    "class Cell(DiscreteTimeModel):\n",
    "    \"\"\"Cell of the Conway's Game of life\n",
    "\n",
    "    It has an state alive or dead. When receives an input, changes its by the defined rules.\n",
    "    Its output is the state.\n",
    "\n",
    "    Attributes:\n",
    "      _symbol (str): Symbol that represents the cell when it is printed in console.\n",
    "    \"\"\"\n",
    "    _symbol: str\n",
    "\n",
    "    def __init__(self, dynamic_system: DiscreteEventDynamicSystem, state: bool, symbol: str = None):\n",
    "        \"\"\"\n",
    "        Args:\n",
    "            dynamic_system (DiscreteEventDynamicSystem): Automata Grid where the cell belongs.\n",
    "            state (bool); State that indicates whether the cell is alive (True) or dead (False).\n",
    "            symbol (str): Symbol that represents the cell when it is printed in console.\n",
    "        \"\"\"\n",
    "        super().__init__(dynamic_system, state=state)\n",
    "        self._symbol = symbol or \"\\u2665\"\n",
    "\n",
    "    def _state_transition(self, state: bool, inputs: Dict[str, bool]) -> bool:\n",
    "        \"\"\"\n",
    "        Receives an input and changes the state of the cell.\n",
    "        Args:\n",
    "            state (bool); Current state of the cell.\n",
    "            inputs: A dictionary where the key is the input source cell and the value the output of that cell.\n",
    "\n",
    "        Returns:\n",
    "            The new state of the cell.\n",
    "        \"\"\"\n",
    "        values = inputs.values()\n",
    "        count_alive = 0\n",
    "        for is_alive in values:\n",
    "            if is_alive:\n",
    "                count_alive = count_alive + 1\n",
    "        return (not state and count_alive == 3) or (state and 2 <= count_alive <= 3)\n",
    "\n",
    "    def _output_function(self, state: bool) -> bool:\n",
    "        \"\"\"\n",
    "        Returns the state of the cell.\n",
    "        \"\"\"\n",
    "        return state\n",
    "\n",
    "    def __str__(self):\n",
    "        \"\"\"Prints the cell with the defined symbol\"\"\"\n",
    "        is_alive = self.get_state()\n",
    "        if is_alive:\n",
    "            return self._symbol\n",
    "        else:\n",
    "            return \"-\""
   ]
  },
  {
   "cell_type": "markdown",
   "metadata": {
    "id": "gPCixTBxLk1P"
   },
   "source": [
    "The difference is in the state transition, where instead of having only one input, it can have up to eight neighbors.\n",
    "\n",
    "![neighbors.png](data:image/png;base64,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)\n",
    "\n",
    "For each neighbor adds one to the counter if it is alive. Then apply the suviving rules."
   ]
  },
  {
   "cell_type": "markdown",
   "metadata": {
    "collapsed": false
   },
   "source": [
    "## Implementing the automata\n",
    "\n",
    "The model is also similar to the previous one, changing the way in which neighbors are assigned."
   ]
  },
  {
   "cell_type": "code",
   "execution_count": null,
   "metadata": {
    "id": "7KzIZQFwMKkF"
   },
   "outputs": [],
   "source": [
    "from __future__ import annotations\n",
    "from random import random, seed\n",
    "from typing import List, TYPE_CHECKING\n",
    "\n",
    "from gsf.dynamic_system.dynamic_systems import DiscreteEventDynamicSystem\n",
    "\n",
    "if TYPE_CHECKING:\n",
    "    from gsf.dynamic_system.core.base_dynamic_sytem import DynamicSystemOutput\n",
    "\n",
    "\n",
    "class Board(DiscreteEventDynamicSystem):\n",
    "    \"\"\"Game of life\n",
    "\n",
    "    It has a group of cells, connected between them. The output of each cell is its right neighbor.\n",
    "    Attributes:\n",
    "        _cells (List[List[Cell]]): Group of cells of the board automata.\n",
    "    \"\"\"\n",
    "    _cells: List[List[Cell]]\n",
    "\n",
    "    def __init__(self, width: int, height: int, random_seed: int = 42):\n",
    "        super().__init__()\n",
    "        seed(random_seed)\n",
    "        self._create_cells(width, height)\n",
    "        self._define_relations(width, height)\n",
    "\n",
    "    def _create_cells(self, width: int, height: int):\n",
    "        \"\"\"Appends the cells to the automata.\n",
    "        Args:\n",
    "            width (int): Number of column cells of the automata.\n",
    "            height (int): Number of row cells of the automata.\n",
    "        \"\"\"\n",
    "        self._cells = []\n",
    "        for i in range(height):\n",
    "            row = []\n",
    "            for j in range(width):\n",
    "                row.append(Cell(self, random() < 0.5))\n",
    "            self._cells.append(row)\n",
    "\n",
    "    def _define_relations(self, width: int, height: int):\n",
    "        \"\"\"Creates the connections between the left cell and the right cell.\n",
    "        Args:\n",
    "            width (int): Number of column cells of the automata.\n",
    "            height (int): Number of row cells of the automata.\n",
    "        \"\"\"\n",
    "        for i in range(height):\n",
    "            for j in range(width):\n",
    "                for x in range(max(0, i - 1), min(i + 2, height)):\n",
    "                    for y in range(max(0, j - 1), min(j + 2, width)):\n",
    "                        if x != i or y != j:\n",
    "                            self._cells[i][j].add(self._cells[x][y])\n",
    "\n",
    "    def __str__(self):\n",
    "        \"\"\"Changes the format to show the board automata when is printed\"\"\"\n",
    "        s = \"\"\n",
    "        for row in self._cells:\n",
    "            for cell in row:\n",
    "                s += str(cell)\n",
    "            s += \"\\n\"\n",
    "        return s\n",
    "\n",
    "    def get_output(self) -> DynamicSystemOutput:\n",
    "        \"\"\"Prints the model every generation\"\"\"\n",
    "        print(self)\n",
    "        return super().get_output()"
   ]
  },
  {
   "cell_type": "markdown",
   "metadata": {
    "id": "5m1n3S7fM6JA"
   },
   "source": [
    "We overwrite the `get_output` member, because we want to print the board every generation."
   ]
  },
  {
   "cell_type": "markdown",
   "metadata": {
    "id": "pI2v16jgNKcO"
   },
   "source": [
    "## Running the simulation\n",
    "\n",
    "Create the experiment and assign the dynamic system."
   ]
  },
  {
   "cell_type": "code",
   "execution_count": null,
   "metadata": {
    "colab": {
     "base_uri": "https://localhost:8080/"
    },
    "id": "2RfMdOGPNQlF",
    "outputId": "d1c8189e-3d9f-4897-871b-aa7229d48c10",
    "pycharm": {
     "name": "#%%\n"
    }
   },
   "outputs": [
    {
     "name": "stdout",
     "output_type": "stream",
     "text": [
      "-♥♥♥---♥♥♥\n",
      "♥-♥♥--♥--♥\n",
      "--♥♥-♥♥♥--\n",
      "----♥-----\n",
      "-♥♥♥♥♥♥♥-♥\n",
      "♥♥♥---♥-♥♥\n",
      "------♥♥♥♥\n",
      "♥--♥-♥-♥♥♥\n",
      "-♥--♥♥--♥♥\n",
      "♥--♥♥♥----\n",
      "\n",
      "-♥♥♥---♥♥♥\n",
      "♥-♥♥--♥--♥\n",
      "--♥♥-♥♥♥--\n",
      "----♥-----\n",
      "-♥♥♥♥♥♥♥-♥\n",
      "♥♥♥---♥-♥♥\n",
      "------♥♥♥♥\n",
      "♥--♥-♥-♥♥♥\n",
      "-♥--♥♥--♥♥\n",
      "♥--♥♥♥----\n",
      "\n",
      "-♥-♥---♥♥♥\n",
      "-----♥---♥\n",
      "-♥♥--♥♥♥--\n",
      "-♥------♥-\n",
      "♥---♥-♥♥-♥\n",
      "♥---♥-----\n",
      "♥-♥--♥----\n",
      "-----♥----\n",
      "♥♥♥----♥-♥\n",
      "---♥-♥----\n",
      "\n",
      "--------♥♥\n",
      "-♥--♥♥---♥\n",
      "-♥♥--♥♥♥♥-\n",
      "♥♥♥-----♥-\n",
      "♥♥---♥-♥♥-\n",
      "♥--♥♥-♥---\n",
      "-♥--♥♥----\n",
      "♥-♥---♥---\n",
      "-♥♥-♥-♥---\n",
      "-♥♥-------\n",
      "\n",
      "--------♥♥\n",
      "-♥♥-♥♥---♥\n",
      "---♥♥♥♥♥♥♥\n",
      "-----♥---♥\n",
      "---♥♥♥♥♥♥-\n",
      "♥-♥♥--♥♥--\n",
      "♥♥♥-♥-♥---\n",
      "♥-♥-♥-♥---\n",
      "♥----♥----\n",
      "-♥♥♥------\n",
      "\n",
      "--------♥♥\n",
      "--♥-------\n",
      "--♥♥---♥-♥\n",
      "---------♥\n",
      "--♥♥----♥-\n",
      "♥-------♥-\n",
      "♥---♥-♥---\n",
      "♥-♥-♥-♥---\n",
      "♥---♥♥----\n",
      "-♥♥-------\n",
      "\n",
      "----------\n",
      "--♥♥-----♥\n",
      "--♥♥----♥-\n",
      "---------♥\n",
      "--------♥♥\n",
      "-♥-♥---♥--\n",
      "♥--♥---♥--\n",
      "♥---♥-♥---\n",
      "♥-♥-♥♥----\n",
      "-♥--------\n",
      "\n",
      "----------\n",
      "--♥♥------\n",
      "--♥♥----♥♥\n",
      "---------♥\n",
      "--------♥♥\n",
      "--♥----♥--\n",
      "♥♥♥♥♥-♥♥--\n",
      "♥---♥-♥---\n",
      "♥--♥♥♥----\n",
      "-♥--------\n",
      "\n",
      "----------\n",
      "--♥♥------\n",
      "--♥♥----♥♥\n",
      "----------\n",
      "--------♥♥\n",
      "--♥---♥♥--\n",
      "♥-♥-♥-♥♥--\n",
      "♥-----♥♥--\n",
      "♥♥-♥♥♥----\n",
      "----♥-----\n",
      "\n",
      "----------\n",
      "--♥♥------\n",
      "--♥♥------\n",
      "----------\n",
      "-------♥♥-\n",
      "-♥-♥-♥♥---\n",
      "---♥----♥-\n",
      "♥-♥----♥--\n",
      "♥♥-♥♥♥♥---\n",
      "---♥♥♥----\n",
      "\n",
      "----------\n",
      "--♥♥------\n",
      "--♥♥------\n",
      "----------\n",
      "------♥♥--\n",
      "--♥-♥-♥-♥-\n",
      "-♥-♥♥-♥♥--\n",
      "♥-♥--♥♥♥--\n",
      "♥♥----♥---\n",
      "--♥♥--♥---\n",
      "\n",
      "----------\n",
      "--♥♥------\n",
      "--♥♥------\n",
      "----------\n",
      "-----♥♥♥--\n",
      "--♥-♥---♥-\n",
      "-♥--♥---♥-\n",
      "♥-♥♥♥-----\n",
      "♥--♥------\n",
      "-♥♥-------\n",
      "\n"
     ]
    }
   ],
   "source": [
    "from gsf.experiments.experiment_builders import DiscreteEventExperiment\n",
    "\n",
    "board = Board(10, 10)\n",
    "experiment = DiscreteEventExperiment(board)\n",
    "print(board)\n",
    "experiment.simulation_control.start(stop_time=10)\n",
    "experiment.simulation_control.wait()\n",
    "print(board)"
   ]
  }
 ],
 "metadata": {
  "colab": {
   "collapsed_sections": [],
   "name": "General Simulation Framework",
   "provenance": [],
   "toc_visible": true
  },
  "kernelspec": {
   "display_name": "Python 3",
   "name": "python3"
  },
  "language_info": {
   "name": "python"
  }
 },
 "nbformat": 4,
 "nbformat_minor": 0
}
