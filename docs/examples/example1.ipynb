{
 "cells": [
  {
   "cell_type": "markdown",
   "metadata": {
    "collapsed": false
   },
   "source": [
    "# Creating a Linear Cellular Automaton\n",
    "\n",
    "Let's start creating a linear cellular automaton\n",
    "\n",
    " ![linear-aca2.png](data:image/png;base64,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)\n",
    "\n",
    "A cellular automaton is a discrete model of computation studied in automata theory. \n",
    "\n",
    "It consists of a regular grid of cells, each in one of a finite number of states, such as on and off (in contrast to a coupled map lattice). The grid can be in any finite number of dimensions. For each cell, a set of cells called its neighborhood is defined relative to the specified cell.An initial state (time t = 0) is selected by assigning a state for each cell. A new generation is created (advancing t by 1), according to some fixed rule (generally, a mathematical function) that determines the new state of each cell in terms of the current state of the cell and the states of the cells in its neighborhood. Typically, the rule for updating the state of cells is the same for each cell and does not change over time.\n",
    "\n",
    "\n",
    "\n"
   ]
  },
  {
   "cell_type": "markdown",
   "metadata": {
    "collapsed": false
   },
   "source": [
    "\n",
    "## Rules\n",
    "\n",
    "For this example, the rule for updating the state of the cells is:\n",
    "\n",
    "> For each cell of the automaton, it will take the state of its left neighboring cell.\n",
    "\n",
    "With this rule, the cells will move one step to the right side every generation.\n"
   ]
  },
  {
   "cell_type": "markdown",
   "metadata": {
    "collapsed": false
   },
   "source": [
    "## Implementing cells\n",
    "\n",
    "To implement cells, you can extend the class `models.models.DiscreteTimeModel`, and define the abstract protected methods."
   ]
  },
  {
   "cell_type": "code",
   "execution_count": 1,
   "metadata": {
    "collapsed": false,
    "execution": {
     "iopub.execute_input": "2021-10-06T15:50:13.800645Z",
     "iopub.status.busy": "2021-10-06T15:50:13.794552Z",
     "iopub.status.idle": "2021-10-06T15:50:13.945154Z",
     "shell.execute_reply": "2021-10-06T15:50:13.945765Z"
    },
    "pycharm": {
     "name": "#%%\n"
    }
   },
   "outputs": [],
   "source": [
    "from typing import Dict\n",
    "from gsf.dynamic_system.dynamic_systems import DiscreteEventDynamicSystem\n",
    "from gsf.models.models import DiscreteTimeModel\n",
    "\n",
    "\n",
    "class Cell(DiscreteTimeModel):\n",
    "    \"\"\"Cell of the linear cellular automaton\n",
    "\n",
    "    It has an state alive or dead. When receives an input, changes its state to that input.\n",
    "    Its output is the state.\n",
    "\n",
    "    Attributes:\n",
    "      _symbol (str): Symbol that represents the cell when it is printed in console.\n",
    "    \"\"\"\n",
    "    _symbol: str\n",
    "\n",
    "    def __init__(self, dynamic_system: DiscreteEventDynamicSystem, state: bool, symbol: str = None):\n",
    "        \"\"\"\n",
    "        Args:\n",
    "            dynamic_system (DiscreteEventDynamicSystem): Automaton Grid where the cell belongs.\n",
    "            state (bool); State that indicates whether the cell is alive (True) or dead (False).\n",
    "            symbol (str): Symbol that represents the cell when it is printed in console.\n",
    "        \"\"\"\n",
    "        super().__init__(dynamic_system, state=state)\n",
    "        self._symbol = symbol or \"\\u2665\"\n",
    "\n",
    "    def _state_transition(self, state: bool, inputs: Dict[str, bool]) -> bool:\n",
    "        \"\"\"\n",
    "        Receives an input and changes the state of the cell.\n",
    "        Args:\n",
    "            state (bool); Current state of the cell.\n",
    "            inputs: A dictionary where the key is the input source cell and the value the output of that cell.\n",
    "\n",
    "        Returns:\n",
    "            The new state of the cell.\n",
    "        \"\"\"\n",
    "        next_state: bool = list(inputs.values())[0]\n",
    "        return next_state\n",
    "\n",
    "    def _output_function(self, state: bool) -> bool:\n",
    "        \"\"\"\n",
    "        Returns the state of the cell.\n",
    "        \"\"\"\n",
    "        return state\n",
    "\n",
    "    def __str__(self):\n",
    "        \"\"\"Prints the cell with the defined symbol\"\"\"\n",
    "        is_alive = self.get_state()\n",
    "        if is_alive:\n",
    "            return self._symbol\n",
    "        else:\n",
    "            return \"-\""
   ]
  },
  {
   "cell_type": "markdown",
   "metadata": {
    "collapsed": false
   },
   "source": [
    "The `Cell` class, must receive the `DiscreteEventDynamicSystem` where the model belongs. We also include the state of the cell as a bool and a symbol that represents the cells when they will be printed.\n",
    "\n",
    "When a generation is running, the framework will obtain the outputs of every cell defined by `_output_function`, and will inject them on the next model by `_state_transition`. The state transition member, receives a dict with the source input model and its state, and returns the new state that will take the cell.\n",
    "\n"
   ]
  },
  {
   "cell_type": "markdown",
   "metadata": {
    "collapsed": false
   },
   "source": [
    "## Implementing the automaton\n",
    "\n",
    "The automaton is a dynamic system, a discrete event dynamic system, so it extends `dynamic_system.dynamic_systems.DiscreteEventDynamicSystem`"
   ]
  },
  {
   "cell_type": "code",
   "execution_count": 2,
   "metadata": {
    "collapsed": false,
    "execution": {
     "iopub.execute_input": "2021-10-06T15:50:13.949019Z",
     "iopub.status.busy": "2021-10-06T15:50:13.948171Z",
     "iopub.status.idle": "2021-10-06T15:50:13.955934Z",
     "shell.execute_reply": "2021-10-06T15:50:13.956511Z"
    },
    "pycharm": {
     "name": "#%%\n"
    }
   },
   "outputs": [],
   "source": [
    "from random import random, seed\n",
    "from typing import List\n",
    "\n",
    "from gsf.dynamic_system.dynamic_systems import DiscreteEventDynamicSystem\n",
    "\n",
    "\n",
    "class LinearAutomata(DiscreteEventDynamicSystem):\n",
    "    \"\"\"Linear Automaton implementation\n",
    "\n",
    "    It has a group of cells, connected between them. The output cell of each cell is its right neighbor.\n",
    "    Attributes:\n",
    "        _cells (List[Cell]): Group of cells of the linear automaton.\n",
    "    \"\"\"\n",
    "    _cells: List[Cell]\n",
    "\n",
    "    def __init__(self, cells: int = 5, random_seed: int = 42):\n",
    "        \"\"\"\n",
    "        Args:\n",
    "            cells (int): Number of cells of the automaton.\n",
    "            random_seed (int): Random seed for determinate the state of the seeds.\n",
    "        \"\"\"\n",
    "        super().__init__()\n",
    "        seed(random_seed)\n",
    "        self._create_cells(cells)\n",
    "        self._create_relations(cells)\n",
    "\n",
    "    def _create_cells(self, cells: int):\n",
    "        \"\"\"Appends the cells to the automaton.\n",
    "        Args:\n",
    "            cells (int): Number of cells of the automaton.\n",
    "        \"\"\"\n",
    "        self._cells = []\n",
    "        for i in range(cells):\n",
    "            is_alive = random() < 0.5\n",
    "            self._cells.append(Cell(self, is_alive))\n",
    "\n",
    "    def _create_relations(self, cells: int):\n",
    "        \"\"\"Creates the connections between the left cell and the right cell.\n",
    "        Args:\n",
    "            cells (int): Number of cells of the automaton.\n",
    "        \"\"\"\n",
    "        for i in range(cells):\n",
    "            self._cells[i-1].add(self._cells[i])\n",
    "\n",
    "    def __str__(self):\n",
    "        \"\"\"Changes the format to show the linear automaton when is printed\"\"\"\n",
    "        s = \"\"\n",
    "        for cell in self._cells:\n",
    "            s += str(cell)\n",
    "        return s"
   ]
  },
  {
   "cell_type": "markdown",
   "metadata": {
    "collapsed": false
   },
   "source": [
    "The `LinearAutomata` receives the number of cells that it will have and a random seed to determine the initial random state of the cells.\n",
    "\n",
    "First creates the cells, setting the state as alive or deade with a probability of 0.5, and giving as ´DynamicSystem´ the current linear automaton.\n",
    "\n",
    "Then, it connects the models, setting as the output of the `cell[i-1]`, the `cell[i]`."
   ]
  },
  {
   "cell_type": "markdown",
   "metadata": {
    "collapsed": false
   },
   "source": [
    "## Running the simulation\n",
    "\n",
    "We defined a dynamic system, so we can simulate it. Use the class `DiscreteEventExperiment` to run 5 geneations!"
   ]
  },
  {
   "cell_type": "code",
   "execution_count": 3,
   "metadata": {
    "collapsed": false,
    "execution": {
     "iopub.execute_input": "2021-10-06T15:50:13.959293Z",
     "iopub.status.busy": "2021-10-06T15:50:13.958497Z",
     "iopub.status.idle": "2021-10-06T15:50:13.986628Z",
     "shell.execute_reply": "2021-10-06T15:50:13.987007Z"
    },
    "pycharm": {
     "name": "#%%\n"
    }
   },
   "outputs": [
    {
     "name": "stdout",
     "output_type": "stream",
     "text": [
      "-♥♥♥---♥♥♥\n",
      "--♥♥♥-♥♥♥-\n"
     ]
    }
   ],
   "source": [
    "from gsf.experiments.experiment_builders import DiscreteEventExperiment\n",
    "\n",
    "linear_automaton = LinearAutomata(cells=10)\n",
    "experiment = DiscreteEventExperiment(linear_automaton)\n",
    "print(linear_automaton)\n",
    "experiment.simulation_control.start(stop_time=5)\n",
    "experiment.simulation_control.wait()\n",
    "print(linear_automaton)"
   ]
  },
  {
   "cell_type": "markdown",
   "metadata": {
    "collapsed": false
   },
   "source": [
    "Create the experiment with the linear automaton as dynamic system. Then, run it during 5 generations.\n",
    "\n",
    "As the simulation runs in a different thread, we wait for it to finish with `experiment.simulation_control.wait()`.\n",
    "\n",
    "Try the example by your custom params and have fun."
   ]
  }
 ],
 "metadata": {
  "colab": {
   "collapsed_sections": [],
   "name": "General Simulation Framework",
   "provenance": [],
   "toc_visible": true
  },
  "kernelspec": {
   "display_name": "Python 3",
   "name": "python3"
  },
  "language_info": {
   "codemirror_mode": {
    "name": "ipython",
    "version": 3
   },
   "file_extension": ".py",
   "mimetype": "text/x-python",
   "name": "python",
   "nbconvert_exporter": "python",
   "pygments_lexer": "ipython3",
   "version": "3.9.2"
  }
 },
 "nbformat": 4,
 "nbformat_minor": 0
}
